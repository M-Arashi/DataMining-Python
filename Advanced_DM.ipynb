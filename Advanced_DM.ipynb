{
  "nbformat": 4,
  "nbformat_minor": 0,
  "metadata": {
    "colab": {
      "provenance": []
    },
    "kernelspec": {
      "name": "python3",
      "display_name": "Python 3"
    },
    "language_info": {
      "name": "python"
    }
  },
  "cells": [
    {
      "cell_type": "markdown",
      "source": [
        "# Main reference\n",
        "\n",
        "## Decision Tree"
      ],
      "metadata": {
        "id": "LDoBOjTRCPHj"
      }
    },
    {
      "cell_type": "code",
      "source": [
        "import pandas as pd\n",
        "from sklearn.model_selection import train_test_split\n",
        "from sklearn import tree\n",
        "from sklearn.tree import DecisionTreeClassifier\n",
        "from sklearn import metrics\n",
        "import seaborn as sn"
      ],
      "metadata": {
        "id": "DHc-jAi0CaTN"
      },
      "execution_count": 16,
      "outputs": []
    },
    {
      "cell_type": "markdown",
      "source": [
        "Diabetes Dataset reading"
      ],
      "metadata": {
        "id": "NHNvBc3_CpAP"
      }
    },
    {
      "cell_type": "code",
      "source": [
        "!git clone https://github.com/M-Arashi/DataMining-Python.git\n",
        "%cd DataMining-Python"
      ],
      "metadata": {
        "id": "YQv-WLAmDOQb"
      },
      "execution_count": null,
      "outputs": []
    },
    {
      "cell_type": "code",
      "source": [
        "# Upload data directly from GitHub: We need pandas for this purpose\n",
        "# url = 'https://raw.githubusercontent.com/M-Arashi/DataMining-Python/master/diabetes.csv'\n",
        "# Load the dataset using Pandas\n",
        "# df=pd.read_csv(url)"
      ],
      "metadata": {
        "id": "c6ydnevxIL1t"
      },
      "execution_count": null,
      "outputs": []
    },
    {
      "cell_type": "code",
      "source": [
        "col_names = [ 'pregnant' , 'glucose' , 'bp' , 'skin' , 'insulin' , 'bmi' , 'pedigree' , 'age', 'label' ]\n",
        "data = pd.read_csv('diabetes.csv')\n",
        "print(data.shape)\n",
        "data.head()"
      ],
      "metadata": {
        "id": "d4GBiwF9EOpE"
      },
      "execution_count": null,
      "outputs": []
    },
    {
      "cell_type": "code",
      "source": [
        "data.isnull().sum()"
      ],
      "metadata": {
        "id": "KTYz2nxIFcpD"
      },
      "execution_count": null,
      "outputs": []
    },
    {
      "cell_type": "code",
      "source": [
        "x=df.iloc[:, :-1]\n",
        "y=df['Outcome']"
      ],
      "metadata": {
        "id": "TYX24tn8FmAP"
      },
      "execution_count": 29,
      "outputs": []
    },
    {
      "cell_type": "markdown",
      "source": [
        "Train & Test Splitting"
      ],
      "metadata": {
        "id": "mjXbhzrqFz8h"
      }
    },
    {
      "cell_type": "code",
      "source": [
        "x_train , x_test , y_train , y_test = train_test_split (x , y , test_size=0.2 , random_state=5)\n",
        "display (x_train . shape , y_train . shape , x_test . shape , y_test . shape)"
      ],
      "metadata": {
        "id": "wab9EWPnF414"
      },
      "execution_count": null,
      "outputs": []
    },
    {
      "cell_type": "code",
      "source": [
        "model= DecisionTreeClassifier (criterion= 'entropy' , random_state=5)\n",
        "model.fit(x_train , y_train)\n",
        "y_pred=model.predict (x_test)\n",
        "print('y_pred:' , y_pred)"
      ],
      "metadata": {
        "id": "my7ycZMsGHZJ"
      },
      "execution_count": null,
      "outputs": []
    },
    {
      "cell_type": "markdown",
      "source": [
        "Evaluation Metrics"
      ],
      "metadata": {
        "id": "Q2wUKFGzI54a"
      }
    },
    {
      "cell_type": "code",
      "source": [
        "conf_mat=metrics.confusion_matrix (y_test , y_pred)\n",
        "print('Confusion Matrix:', conf_mat)\n",
        "Accuracy_score=metrics.accuracy_score(y_test, y_pred)\n",
        "print('Accuracy Score:', Accuracy_score)\n",
        "print('Accuracy in Percentage:', int(Accuracy_score*100), '%')"
      ],
      "metadata": {
        "id": "arw_ExT5I6X0"
      },
      "execution_count": null,
      "outputs": []
    },
    {
      "cell_type": "code",
      "source": [
        "conf_mat=pd.crosstab(y_test , y_pred , rownames= [ 'Actual' ], colnames= [ 'Predicted' ])\n",
        "sn.heatmap(conf_mat , annot=True)"
      ],
      "metadata": {
        "id": "-jPKb8oGJOjX"
      },
      "execution_count": null,
      "outputs": []
    }
  ]
}